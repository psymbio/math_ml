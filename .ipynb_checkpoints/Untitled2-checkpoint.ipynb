{
 "cells": [
  {
   "cell_type": "code",
   "execution_count": 3,
   "id": "206a18a4-c87d-46d6-8764-04b379cf8293",
   "metadata": {},
   "outputs": [],
   "source": [
    "import time\n",
    "import os\n",
    "import glob\n",
    "import base64\n",
    "from PyPDF2 import PdfMerger\n",
    "from selenium import webdriver\n",
    "from selenium.webdriver.common.keys import Keys\n",
    "from selenium.webdriver.chrome.service import Service\n",
    "from selenium.webdriver.common.by import By\n",
    "from selenium.webdriver.common.action_chains import ActionChains\n",
    "from webdriver_manager.chrome import ChromeDriverManager\n",
    "\n",
    "# Set up Selenium WebDriver\n",
    "options = webdriver.ChromeOptions()\n",
    "options.add_argument(\"--start-maximized\")\n",
    "prefs = {\"printing.print_preview_sticky_settings.appState\": '{\"recentDestinations\":[{\"id\":\"Save as PDF\"}]}'}\n",
    "options.add_experimental_option(\"prefs\", prefs)\n",
    "options.add_argument(\"--kiosk-printing\")  # Auto confirm print\n",
    "driver = webdriver.Chrome(service=Service(ChromeDriverManager().install()), options=options)\n",
    "\n",
    "# Load the webpage\n",
    "driver.get(\"https://www.icicidirect.com/\")"
   ]
  },
  {
   "cell_type": "code",
   "execution_count": 4,
   "id": "3668ec1b-f58f-4754-8c3e-99efcf6ed076",
   "metadata": {},
   "outputs": [
    {
     "ename": "KeyboardInterrupt",
     "evalue": "",
     "output_type": "error",
     "traceback": [
      "\u001b[0;31m---------------------------------------------------------------------------\u001b[0m",
      "\u001b[0;31mKeyboardInterrupt\u001b[0m                         Traceback (most recent call last)",
      "Cell \u001b[0;32mIn[4], line 43\u001b[0m\n\u001b[1;32m     40\u001b[0m scrollable_xpath \u001b[38;5;241m=\u001b[39m \u001b[38;5;124m\"\u001b[39m\u001b[38;5;124m/html/body/div[1]/div[1]/div\u001b[39m\u001b[38;5;124m\"\u001b[39m\n\u001b[1;32m     41\u001b[0m output_prefix \u001b[38;5;241m=\u001b[39m \u001b[38;5;124m\"\u001b[39m\u001b[38;5;124mpractical_quiz_1\u001b[39m\u001b[38;5;124m\"\u001b[39m\n\u001b[0;32m---> 43\u001b[0m file_list \u001b[38;5;241m=\u001b[39m \u001b[43mscroll_and_save\u001b[49m\u001b[43m(\u001b[49m\u001b[43mdriver\u001b[49m\u001b[43m,\u001b[49m\u001b[43m \u001b[49m\u001b[43mscrollable_xpath\u001b[49m\u001b[43m,\u001b[49m\u001b[43m \u001b[49m\u001b[43moutput_prefix\u001b[49m\u001b[43m)\u001b[49m\n\u001b[1;32m     44\u001b[0m merge_pdfs(file_list, output_prefix \u001b[38;5;241m+\u001b[39m \u001b[38;5;124m\"\u001b[39m\u001b[38;5;124m.pdf\u001b[39m\u001b[38;5;124m\"\u001b[39m)\n",
      "Cell \u001b[0;32mIn[4], line 19\u001b[0m, in \u001b[0;36mscroll_and_save\u001b[0;34m(driver, scrollable_xpath, output_prefix)\u001b[0m\n\u001b[1;32m     16\u001b[0m file_list\u001b[38;5;241m.\u001b[39mappend(file_name)\n\u001b[1;32m     18\u001b[0m driver\u001b[38;5;241m.\u001b[39mexecute_script(\u001b[38;5;124m\"\u001b[39m\u001b[38;5;124marguments[0].scrollTop += arguments[0].clientHeight;\u001b[39m\u001b[38;5;124m\"\u001b[39m, scrollable_div)\n\u001b[0;32m---> 19\u001b[0m \u001b[43mtime\u001b[49m\u001b[38;5;241;43m.\u001b[39;49m\u001b[43msleep\u001b[49m\u001b[43m(\u001b[49m\u001b[38;5;241;43m2\u001b[39;49m\u001b[43m)\u001b[49m  \u001b[38;5;66;03m# Allow time for new content to load\u001b[39;00m\n\u001b[1;32m     21\u001b[0m new_scroll_position \u001b[38;5;241m=\u001b[39m driver\u001b[38;5;241m.\u001b[39mexecute_script(\u001b[38;5;124m\"\u001b[39m\u001b[38;5;124mreturn arguments[0].scrollTop;\u001b[39m\u001b[38;5;124m\"\u001b[39m, scrollable_div)\n\u001b[1;32m     22\u001b[0m \u001b[38;5;28;01mif\u001b[39;00m new_scroll_position \u001b[38;5;241m==\u001b[39m last_scroll_position:\n",
      "\u001b[0;31mKeyboardInterrupt\u001b[0m: "
     ]
    }
   ],
   "source": [
    "def save_pdf(driver, file_name):\n",
    "    params = {'landscape': False, 'paperWidth': 8.27, 'paperHeight': 11.69}\n",
    "    data = driver.execute_cdp_cmd(\"Page.printToPDF\", params)\n",
    "    with open(file_name, 'wb') as file:\n",
    "        file.write(base64.b64decode(data['data']))\n",
    "\n",
    "def scroll_and_save(driver, scrollable_xpath, output_prefix):\n",
    "    scrollable_div = driver.find_element(By.XPATH, scrollable_xpath)\n",
    "    file_list = []\n",
    "    page_num = 1\n",
    "    last_scroll_position = -1\n",
    "    \n",
    "    while True:\n",
    "        file_name = f\"{output_prefix}_page_{page_num}.pdf\"\n",
    "        save_pdf(driver, file_name)\n",
    "        file_list.append(file_name)\n",
    "        \n",
    "        driver.execute_script(\"arguments[0].scrollTop += arguments[0].clientHeight;\", scrollable_div)\n",
    "        time.sleep(2)  # Allow time for new content to load\n",
    "        \n",
    "        new_scroll_position = driver.execute_script(\"return arguments[0].scrollTop;\", scrollable_div)\n",
    "        if new_scroll_position == last_scroll_position:\n",
    "            break  # Stop when scrolling reaches the end\n",
    "        last_scroll_position = new_scroll_position\n",
    "        page_num += 1\n",
    "    \n",
    "    return file_list\n",
    "\n",
    "def merge_pdfs(file_list, output_file):\n",
    "    merger = PdfMerger()\n",
    "    for pdf in file_list:\n",
    "        merger.append(pdf)\n",
    "    merger.write(output_file)\n",
    "    merger.close()\n",
    "    \n",
    "    # Clean up individual PDF files\n",
    "    for pdf in file_list:\n",
    "        os.remove(pdf)\n",
    "\n",
    "scrollable_xpath = \"/html/body/div[1]/div[1]/div\"\n",
    "output_prefix = \"practical_quiz_1\"\n",
    "\n",
    "file_list = scroll_and_save(driver, scrollable_xpath, output_prefix)\n",
    "merge_pdfs(file_list, output_prefix + \".pdf\")"
   ]
  },
  {
   "cell_type": "code",
   "execution_count": null,
   "id": "252c30fc-0809-4b73-86ba-fd353af27316",
   "metadata": {},
   "outputs": [],
   "source": []
  }
 ],
 "metadata": {
  "kernelspec": {
   "display_name": "Python 3 (ipykernel)",
   "language": "python",
   "name": "python3"
  },
  "language_info": {
   "codemirror_mode": {
    "name": "ipython",
    "version": 3
   },
   "file_extension": ".py",
   "mimetype": "text/x-python",
   "name": "python",
   "nbconvert_exporter": "python",
   "pygments_lexer": "ipython3",
   "version": "3.10.14"
  }
 },
 "nbformat": 4,
 "nbformat_minor": 5
}
