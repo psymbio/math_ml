{
 "cells": [
  {
   "cell_type": "code",
   "execution_count": 1,
   "id": "a3e4e83b-6ce3-4fa5-b33e-71b961dcec60",
   "metadata": {},
   "outputs": [],
   "source": [
    "import time\n",
    "import os\n",
    "import glob\n",
    "import fitz  # PyMuPDF\n",
    "import base64\n",
    "from selenium import webdriver\n",
    "from selenium.webdriver.common.keys import Keys\n",
    "from selenium.webdriver.chrome.service import Service\n",
    "from selenium.webdriver.common.by import By\n",
    "from selenium.webdriver.common.action_chains import ActionChains\n",
    "from webdriver_manager.chrome import ChromeDriverManager\n",
    "\n",
    "# Set up Selenium WebDriver\n",
    "options = webdriver.ChromeOptions()\n",
    "options.add_argument(\"--start-maximized\")\n",
    "prefs = {\"printing.print_preview_sticky_settings.appState\": '{\"recentDestinations\":[{\"id\":\"Save as PDF\"}]}'}\n",
    "options.add_experimental_option(\"prefs\", prefs)\n",
    "options.add_argument(\"--kiosk-printing\")  # Auto confirm print\n",
    "driver = webdriver.Chrome(service=Service(ChromeDriverManager().install()), options=options)\n",
    "\n",
    "# Load the webpage\n",
    "driver.get(\"https://www.coursera.org/?authMode=login\")  # Change to your target URL"
   ]
  },
  {
   "cell_type": "code",
   "execution_count": 2,
   "id": "bf3a7b43-c48f-4262-8463-551f1992d838",
   "metadata": {},
   "outputs": [],
   "source": [
    "driver.switch_to.window(driver.window_handles[1])"
   ]
  },
  {
   "cell_type": "code",
   "execution_count": 8,
   "id": "eac59fc3-a22b-43eb-94cf-d5a7be5929cb",
   "metadata": {},
   "outputs": [],
   "source": [
    "driver.execute_script(\"document.body.style.zoom='90%'\")"
   ]
  },
  {
   "cell_type": "code",
   "execution_count": 9,
   "id": "c4bc86f9-e956-42bd-9843-8762698d3200",
   "metadata": {},
   "outputs": [],
   "source": [
    "def save_pdf(driver, file_name):\n",
    "    params = {'landscape': False, 'paperWidth': 12, 'paperHeight': 25}\n",
    "    data = driver.execute_cdp_cmd(\"Page.printToPDF\", params)\n",
    "    with open(file_name, 'wb') as file:\n",
    "        file.write(base64.b64decode(data['data']))\n",
    "\n",
    "def scroll_and_save(driver, scrollable_xpath, output_prefix):\n",
    "    scrollable_div = driver.find_element(By.XPATH, scrollable_xpath)\n",
    "    file_list = []\n",
    "    page_num = 1\n",
    "    last_scroll_position = -1\n",
    "    \n",
    "    while True:\n",
    "        file_name = f\"{output_prefix}_page_{page_num}.pdf\"\n",
    "        save_pdf(driver, file_name)\n",
    "        file_list.append(file_name)\n",
    "        \n",
    "        driver.execute_script(\"arguments[0].scrollTop += arguments[0].clientHeight;\", scrollable_div)\n",
    "        time.sleep(2)  # Allow time for new content to load\n",
    "        \n",
    "        new_scroll_position = driver.execute_script(\"return arguments[0].scrollTop;\", scrollable_div)\n",
    "        if new_scroll_position == last_scroll_position:\n",
    "            break  # Stop when scrolling reaches the end\n",
    "        last_scroll_position = new_scroll_position\n",
    "        page_num += 1\n",
    "    \n",
    "    return file_list\n",
    "\n",
    "def merge_pdfs(file_list, output_file):\n",
    "    merger = PdfMerger()\n",
    "    for pdf in file_list:\n",
    "        merger.append(pdf)\n",
    "    merger.write(output_file)\n",
    "    merger.close()\n",
    "    \n",
    "    # Clean up individual PDF files\n",
    "    for pdf in file_list:\n",
    "        os.remove(pdf)\n",
    "\n",
    "# Usage\n",
    "scrollable_xpath = \"/html/body/div[5]/div/div/div/div[2]/div/div\"\n",
    "output_prefix = \"practical_quiz_1\""
   ]
  },
  {
   "cell_type": "code",
   "execution_count": 10,
   "id": "d305d417-31bf-493e-8bf7-e7e103b4f1a6",
   "metadata": {},
   "outputs": [],
   "source": [
    "file_list = scroll_and_save(driver, scrollable_xpath, output_prefix)"
   ]
  },
  {
   "cell_type": "code",
   "execution_count": null,
   "id": "786d13d3-e508-488d-9ffb-1e670612c9b1",
   "metadata": {},
   "outputs": [],
   "source": [
    "merge_pdfs(file_list, output_prefix + \".pdf\")"
   ]
  },
  {
   "cell_type": "code",
   "execution_count": null,
   "id": "aecb3a2b-7aaf-400d-8bb2-d4beaa9d886c",
   "metadata": {},
   "outputs": [],
   "source": [
    "from PyPDF2 import PdfMerger"
   ]
  },
  {
   "cell_type": "code",
   "execution_count": null,
   "id": "0d796909-6f41-4c7c-aca1-d37862459677",
   "metadata": {},
   "outputs": [],
   "source": [
    "!pip install PyPDF2"
   ]
  },
  {
   "cell_type": "code",
   "execution_count": null,
   "id": "e893332c-1704-4296-92ca-bfd0098dfdde",
   "metadata": {},
   "outputs": [],
   "source": []
  }
 ],
 "metadata": {
  "kernelspec": {
   "display_name": "Python 3 (ipykernel)",
   "language": "python",
   "name": "python3"
  },
  "language_info": {
   "codemirror_mode": {
    "name": "ipython",
    "version": 3
   },
   "file_extension": ".py",
   "mimetype": "text/x-python",
   "name": "python",
   "nbconvert_exporter": "python",
   "pygments_lexer": "ipython3",
   "version": "3.10.14"
  }
 },
 "nbformat": 4,
 "nbformat_minor": 5
}
