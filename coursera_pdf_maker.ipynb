{
 "cells": [
  {
   "cell_type": "code",
   "execution_count": 1,
   "id": "a3e4e83b-6ce3-4fa5-b33e-71b961dcec60",
   "metadata": {},
   "outputs": [],
   "source": [
    "import time\n",
    "import os\n",
    "import glob\n",
    "import fitz  # PyMuPDF\n",
    "import base64\n",
    "from selenium import webdriver\n",
    "from selenium.webdriver.common.keys import Keys\n",
    "from selenium.webdriver.chrome.service import Service\n",
    "from selenium.webdriver.common.by import By\n",
    "from selenium.webdriver.common.action_chains import ActionChains\n",
    "from webdriver_manager.chrome import ChromeDriverManager\n",
    "\n",
    "# Set up Selenium WebDriver\n",
    "options = webdriver.ChromeOptions()\n",
    "options.add_argument(\"--start-maximized\")\n",
    "prefs = {\"printing.print_preview_sticky_settings.appState\": '{\"recentDestinations\":[{\"id\":\"Save as PDF\"}]}'}\n",
    "options.add_experimental_option(\"prefs\", prefs)\n",
    "options.add_argument(\"--kiosk-printing\")  # Auto confirm print\n",
    "driver = webdriver.Chrome(service=Service(ChromeDriverManager().install()), options=options)\n",
    "\n",
    "# Load the webpage\n",
    "driver.get(\"https://www.coursera.org/?authMode=login\")  # Change to your target URL"
   ]
  },
  {
   "cell_type": "code",
   "execution_count": 2,
   "id": "bf3a7b43-c48f-4262-8463-551f1992d838",
   "metadata": {},
   "outputs": [],
   "source": [
    "driver.switch_to.window(driver.window_handles[1])"
   ]
  },
  {
   "cell_type": "code",
   "execution_count": 3,
   "id": "eac59fc3-a22b-43eb-94cf-d5a7be5929cb",
   "metadata": {},
   "outputs": [],
   "source": [
    "driver.execute_script(\"document.body.style.zoom='90%'\")"
   ]
  },
  {
   "cell_type": "code",
   "execution_count": 6,
   "id": "0217c3e0-e7e0-4c0f-9b5d-85f907c2ef32",
   "metadata": {},
   "outputs": [],
   "source": [
    "driver.execute_script(\"return document.getElementsByClassName('rc-TunnelVisionHeader _11sxso0')[0].remove();\")"
   ]
  },
  {
   "cell_type": "code",
   "execution_count": 7,
   "id": "0c5f175a-e705-458f-8f09-503422b9bac8",
   "metadata": {},
   "outputs": [],
   "source": [
    "driver.execute_script(\"return document.getElementsByClassName('cds-AccordionRoot-focusContainer')[0].remove();\")"
   ]
  },
  {
   "cell_type": "code",
   "execution_count": 8,
   "id": "1f8bfb92-cba8-44d1-8231-06bad3c2e5db",
   "metadata": {},
   "outputs": [],
   "source": [
    "def save_pdf(driver, file_name):\n",
    "    params = {'landscape': False, 'paperWidth': 12, 'paperHeight': 25}\n",
    "    data = driver.execute_cdp_cmd(\"Page.printToPDF\", params)\n",
    "    with open(file_name, 'wb') as file:\n",
    "        file.write(base64.b64decode(data['data']))\n",
    "# Usage\n",
    "output_file = \"practical_quiz_1.pdf\"\n",
    "save_pdf(driver, output_file)"
   ]
  },
  {
   "cell_type": "code",
   "execution_count": null,
   "id": "56d1f2f8-5c4a-4d44-b830-b7dbd682cd89",
   "metadata": {},
   "outputs": [],
   "source": []
  },
  {
   "cell_type": "code",
   "execution_count": 15,
   "id": "15fc2411-aea5-4d32-b26e-7df1c98e146d",
   "metadata": {},
   "outputs": [],
   "source": [
    "from spire.pdf.common import *\n",
    "from spire.pdf import *\n",
    "\n",
    "# Load a PDF document\n",
    "origin_doc = PdfDocument(\"course_1/week_1/practical_quiz_1.pdf\")\n",
    "\n",
    "# Create a new PDF document\n",
    "new_doc = PdfDocument()\n",
    "\n",
    "# Iterate through each page of the loaded document\n",
    "for i in range(origin_doc.Pages.Count):\n",
    "    # Get the current page\n",
    "    page = origin_doc.Pages[i]\n",
    "\n",
    "    # Add a new page with A3 size and no margins to the new PDF document\n",
    "    newPage = new_doc.Pages.Add(PdfPageSize.A4(), PdfMargins(0))\n",
    "\n",
    "    # Create a PdfTextLayout object\n",
    "    layout = PdfTextLayout()\n",
    "    # Set content layout type as one page to automatically scale content according to page size\n",
    "    layout.Layout = PdfLayoutType.OnePage\n",
    "\n",
    "    # Draw the page content of the current page on the new page\n",
    "    page.CreateTemplate().Draw(newPage, PointF.Empty(), layout)\n",
    "\n",
    "# Save the new PDF document\n",
    "new_doc.SaveToFile(\"A4.pdf\")\n",
    "origin_doc.Close()\n",
    "new_doc.Close()\n",
    "\n",
    "# convert_pdf_to_a4(\"\", \"output_a4.pdf\")"
   ]
  },
  {
   "cell_type": "code",
   "execution_count": 19,
   "id": "26d29636-4747-4643-a18c-da4f49024292",
   "metadata": {},
   "outputs": [
    {
     "name": "stdout",
     "output_type": "stream",
     "text": [
      "\u001b[33mWARNING: Skipping Spire.Pdf as it is not installed.\u001b[0m\u001b[33m\n",
      "\u001b[0m"
     ]
    }
   ],
   "source": [
    "!pip uninstall Spire.Pdf -y"
   ]
  },
  {
   "cell_type": "code",
   "execution_count": 22,
   "id": "bbc10181-78ae-42f4-8b57-2f069bc32b30",
   "metadata": {},
   "outputs": [
    {
     "name": "stdout",
     "output_type": "stream",
     "text": [
      "\u001b[33mWARNING: Skipping fitz as it is not installed.\u001b[0m\u001b[33m\n",
      "Defaulting to user installation because normal site-packages is not writeable\n",
      "Collecting pymupdf\n",
      "  Using cached pymupdf-1.25.3-cp39-abi3-manylinux2014_x86_64.manylinux_2_17_x86_64.whl.metadata (3.4 kB)\n",
      "Using cached pymupdf-1.25.3-cp39-abi3-manylinux2014_x86_64.manylinux_2_17_x86_64.whl (20.0 MB)\n",
      "Installing collected packages: pymupdf\n",
      "  Attempting uninstall: pymupdf\n",
      "    Found existing installation: PyMuPDF 1.25.3\n",
      "    Uninstalling PyMuPDF-1.25.3:\n",
      "      Successfully uninstalled PyMuPDF-1.25.3\n",
      "Successfully installed pymupdf-1.25.3\n",
      "\n",
      "\u001b[1m[\u001b[0m\u001b[34;49mnotice\u001b[0m\u001b[1;39;49m]\u001b[0m\u001b[39;49m A new release of pip is available: \u001b[0m\u001b[31;49m25.0\u001b[0m\u001b[39;49m -> \u001b[0m\u001b[32;49m25.0.1\u001b[0m\n",
      "\u001b[1m[\u001b[0m\u001b[34;49mnotice\u001b[0m\u001b[1;39;49m]\u001b[0m\u001b[39;49m To update, run: \u001b[0m\u001b[32;49m/usr/bin/python3 -m pip install --upgrade pip\u001b[0m\n"
     ]
    }
   ],
   "source": [
    "!pip uninstall fitz\n",
    "!pip install --upgrade --force-reinstall pymupdf"
   ]
  },
  {
   "cell_type": "code",
   "execution_count": 23,
   "id": "df9f2f6e-e9de-4b0e-8144-8464e61db346",
   "metadata": {},
   "outputs": [],
   "source": [
    "import fitz"
   ]
  },
  {
   "cell_type": "code",
   "execution_count": 24,
   "id": "dd81f7df-e001-49c8-a538-409930546733",
   "metadata": {},
   "outputs": [
    {
     "ename": "AttributeError",
     "evalue": "module 'fitz' has no attribute 'PaperRect'",
     "output_type": "error",
     "traceback": [
      "\u001b[0;31m---------------------------------------------------------------------------\u001b[0m",
      "\u001b[0;31mAttributeError\u001b[0m                            Traceback (most recent call last)",
      "Cell \u001b[0;32mIn[24], line 7\u001b[0m\n\u001b[1;32m      5\u001b[0m     fmt \u001b[38;5;241m=\u001b[39m fitz\u001b[38;5;241m.\u001b[39mPaperRect(\u001b[38;5;124m\"\u001b[39m\u001b[38;5;124ma4-l\u001b[39m\u001b[38;5;124m\"\u001b[39m)  \u001b[38;5;66;03m# landscape if input suggests\u001b[39;00m\n\u001b[1;32m      6\u001b[0m \u001b[38;5;28;01melse\u001b[39;00m:\n\u001b[0;32m----> 7\u001b[0m     fmt \u001b[38;5;241m=\u001b[39m \u001b[43mfitz\u001b[49m\u001b[38;5;241;43m.\u001b[39;49m\u001b[43mPaperRect\u001b[49m(\u001b[38;5;124m\"\u001b[39m\u001b[38;5;124ma4\u001b[39m\u001b[38;5;124m\"\u001b[39m)\n\u001b[1;32m      8\u001b[0m page \u001b[38;5;241m=\u001b[39m doc\u001b[38;5;241m.\u001b[39mnewPage(width \u001b[38;5;241m=\u001b[39m fmt\u001b[38;5;241m.\u001b[39mwidth, height \u001b[38;5;241m=\u001b[39m fmt\u001b[38;5;241m.\u001b[39mheight)\n\u001b[1;32m      9\u001b[0m page\u001b[38;5;241m.\u001b[39mshowPDFpage(page\u001b[38;5;241m.\u001b[39mrect, src, ipage\u001b[38;5;241m.\u001b[39mnumber)\n",
      "\u001b[0;31mAttributeError\u001b[0m: module 'fitz' has no attribute 'PaperRect'"
     ]
    }
   ],
   "source": [
    "src = fitz.open(\"course_1/week_1/practical_quiz_1.pdf\")  # problem PDF\n",
    "doc = fitz.open()\n",
    "for ipage in src:\n",
    "    if ipage.rect.width > ipage.rect.height:\n",
    "        fmt = fitz.PaperRect(\"a4-l\")  # landscape if input suggests\n",
    "    else:\n",
    "        fmt = fitz.PaperRect(\"a4\")\n",
    "    page = doc.newPage(width = fmt.width, height = fmt.height)\n",
    "    page.showPDFpage(page.rect, src, ipage.number)\n",
    "\n",
    "doc.save(\"reformatted.pdf\")"
   ]
  },
  {
   "cell_type": "code",
   "execution_count": 27,
   "id": "95bcab22-9f69-4a2a-8e54-cf53c4417807",
   "metadata": {},
   "outputs": [],
   "source": [
    "import fitz  # PyMuPDF\n",
    "\n",
    "src = fitz.open(\"course_1/week_1/practical_quiz_1.pdf\")  # Open source PDF\n",
    "doc = fitz.open()  # Create a new PDF document\n",
    "\n",
    "for ipage in src:\n",
    "    rect = ipage.rect  # Get original page dimensions\n",
    "    crop_rect = fitz.Rect(rect.x0 + 30, rect.y0, rect.x1 - 30, rect.y1)  # Adjust left/right padding\n",
    "\n",
    "    if rect.width > rect.height:\n",
    "        fmt = fitz.paper_size(\"a4-l\")  # Landscape A4\n",
    "    else:\n",
    "        fmt = fitz.paper_size(\"a4\")  # Portrait A4\n",
    "    \n",
    "    page = doc.new_page(width=fmt[0], height=fmt[1])  # Create new page\n",
    "    page.show_pdf_page(page.rect, src, ipage.number, clip=crop_rect)  # Apply cropping\n",
    "\n",
    "doc.save(\"reformatted2.pdf\")\n",
    "doc.close()\n"
   ]
  },
  {
   "cell_type": "code",
   "execution_count": null,
   "id": "2280425f-e77f-4e2c-9316-e5e862a84640",
   "metadata": {},
   "outputs": [],
   "source": []
  }
 ],
 "metadata": {
  "kernelspec": {
   "display_name": "Python 3 (ipykernel)",
   "language": "python",
   "name": "python3"
  },
  "language_info": {
   "codemirror_mode": {
    "name": "ipython",
    "version": 3
   },
   "file_extension": ".py",
   "mimetype": "text/x-python",
   "name": "python",
   "nbconvert_exporter": "python",
   "pygments_lexer": "ipython3",
   "version": "3.10.14"
  }
 },
 "nbformat": 4,
 "nbformat_minor": 5
}
