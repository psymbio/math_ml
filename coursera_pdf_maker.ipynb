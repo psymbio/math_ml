{
 "cells": [
  {
   "cell_type": "code",
   "execution_count": 1,
   "id": "a3e4e83b-6ce3-4fa5-b33e-71b961dcec60",
   "metadata": {},
   "outputs": [],
   "source": [
    "import time\n",
    "import os\n",
    "import glob\n",
    "import fitz  # PyMuPDF\n",
    "import base64\n",
    "from selenium import webdriver\n",
    "from selenium.webdriver.common.keys import Keys\n",
    "from selenium.webdriver.chrome.service import Service\n",
    "from selenium.webdriver.common.by import By\n",
    "from selenium.webdriver.common.action_chains import ActionChains\n",
    "from webdriver_manager.chrome import ChromeDriverManager\n",
    "\n",
    "# Set up Selenium WebDriver\n",
    "options = webdriver.ChromeOptions()\n",
    "options.add_argument(\"--start-maximized\")\n",
    "prefs = {\"printing.print_preview_sticky_settings.appState\": '{\"recentDestinations\":[{\"id\":\"Save as PDF\"}]}'}\n",
    "options.add_experimental_option(\"prefs\", prefs)\n",
    "options.add_argument(\"--kiosk-printing\")  # Auto confirm print\n",
    "driver = webdriver.Chrome(service=Service(ChromeDriverManager().install()), options=options)\n",
    "\n",
    "# Load the webpage\n",
    "driver.get(\"https://www.coursera.org/?authMode=login\")  # Change to your target URL"
   ]
  },
  {
   "cell_type": "code",
   "execution_count": 2,
   "id": "bf3a7b43-c48f-4262-8463-551f1992d838",
   "metadata": {},
   "outputs": [],
   "source": [
    "driver.switch_to.window(driver.window_handles[1])"
   ]
  },
  {
   "cell_type": "code",
   "execution_count": 3,
   "id": "eac59fc3-a22b-43eb-94cf-d5a7be5929cb",
   "metadata": {},
   "outputs": [],
   "source": [
    "driver.execute_script(\"document.body.style.zoom='90%'\")"
   ]
  },
  {
   "cell_type": "code",
   "execution_count": 6,
   "id": "0217c3e0-e7e0-4c0f-9b5d-85f907c2ef32",
   "metadata": {},
   "outputs": [],
   "source": [
    "driver.execute_script(\"return document.getElementsByClassName('rc-TunnelVisionHeader _11sxso0')[0].remove();\")"
   ]
  },
  {
   "cell_type": "code",
   "execution_count": 7,
   "id": "0c5f175a-e705-458f-8f09-503422b9bac8",
   "metadata": {},
   "outputs": [],
   "source": [
    "driver.execute_script(\"return document.getElementsByClassName('cds-AccordionRoot-focusContainer')[0].remove();\")"
   ]
  },
  {
   "cell_type": "code",
   "execution_count": 8,
   "id": "1f8bfb92-cba8-44d1-8231-06bad3c2e5db",
   "metadata": {},
   "outputs": [],
   "source": [
    "def save_pdf(driver, file_name):\n",
    "    params = {'landscape': False, 'paperWidth': 12, 'paperHeight': 25}\n",
    "    data = driver.execute_cdp_cmd(\"Page.printToPDF\", params)\n",
    "    with open(file_name, 'wb') as file:\n",
    "        file.write(base64.b64decode(data['data']))\n",
    "# Usage\n",
    "output_file = \"practical_quiz_1.pdf\"\n",
    "save_pdf(driver, output_file)"
   ]
  },
  {
   "cell_type": "code",
   "execution_count": 3,
   "id": "dd81f7df-e001-49c8-a538-409930546733",
   "metadata": {},
   "outputs": [],
   "source": [
    "import fitz  # PyMuPDF\n",
    "\n",
    "src = fitz.open(\"course_1/week_1/practical_quiz_1.pdf\")  # Open source PDF\n",
    "doc = fitz.open()  # Create a new PDF document\n",
    "\n",
    "for ipage in src:\n",
    "    rect = ipage.rect  # Get original page dimensions\n",
    "    crop_rect = fitz.Rect(rect.x0 + 30, rect.y0, rect.x1 - 30, rect.y1)  # Adjust left/right padding\n",
    "\n",
    "    if rect.width > rect.height:\n",
    "        fmt = fitz.paper_size(\"a4-l\")  # Landscape A4\n",
    "    else:\n",
    "        fmt = fitz.paper_size(\"a4\")  # Portrait A4\n",
    "    \n",
    "    page = doc.new_page(width=fmt[0], height=fmt[1])  # Create new page\n",
    "    page.show_pdf_page(page.rect, src, ipage.number, clip=crop_rect)  # Apply cropping\n",
    "\n",
    "doc.save(\"course_1/week_1/practical_quiz_1_reformatted.pdf\")\n",
    "doc.close()"
   ]
  },
  {
   "cell_type": "code",
   "execution_count": null,
   "id": "f48304ae-0eb7-40e3-97c3-97bae4d1a7a3",
   "metadata": {},
   "outputs": [],
   "source": []
  }
 ],
 "metadata": {
  "kernelspec": {
   "display_name": "Python 3 (ipykernel)",
   "language": "python",
   "name": "python3"
  },
  "language_info": {
   "codemirror_mode": {
    "name": "ipython",
    "version": 3
   },
   "file_extension": ".py",
   "mimetype": "text/x-python",
   "name": "python",
   "nbconvert_exporter": "python",
   "pygments_lexer": "ipython3",
   "version": "3.10.14"
  }
 },
 "nbformat": 4,
 "nbformat_minor": 5
}
