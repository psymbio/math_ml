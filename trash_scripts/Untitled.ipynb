{
 "cells": [
  {
   "cell_type": "code",
   "execution_count": 1,
   "id": "f687aa46-5c6c-4aec-b277-cd2935d3deaa",
   "metadata": {},
   "outputs": [],
   "source": [
    "from selenium import webdriver\n",
    "from webdriver_manager.chrome import ChromeDriverManager\n",
    "from selenium.webdriver.chrome.service import Service\n",
    "from selenium.webdriver.common.by import By\n",
    "import pandas as pd\n",
    "import time\n",
    "import re\n",
    "driver = webdriver.Chrome(service=Service(ChromeDriverManager().install()))"
   ]
  },
  {
   "cell_type": "code",
   "execution_count": 2,
   "id": "65c37413-3b40-4d50-9088-c77215bfcd3f",
   "metadata": {},
   "outputs": [],
   "source": [
    "driver.get(\"https://www.coursera.org/?authMode=login\")"
   ]
  },
  {
   "cell_type": "markdown",
   "id": "c6d1a58c-94f5-4375-af71-1bcf0e9fda92",
   "metadata": {},
   "source": [
    "not automating login - login into your own account and go to the relevant quiz page on your own - once open continue with the script"
   ]
  },
  {
   "cell_type": "code",
   "execution_count": 3,
   "id": "200a4097-e397-4036-80bf-8128fa69764e",
   "metadata": {},
   "outputs": [],
   "source": [
    "driver.switch_to.window(driver.window_handles[1])"
   ]
  },
  {
   "cell_type": "code",
   "execution_count": 4,
   "id": "72a96234-9343-4f30-bccb-2774c87afc68",
   "metadata": {},
   "outputs": [
    {
     "data": {
      "text/plain": [
       "True"
      ]
     },
     "execution_count": 4,
     "metadata": {},
     "output_type": "execute_result"
    }
   ],
   "source": [
    "import pdfkit\n",
    "\n",
    "options = {\n",
    "    \"page-size\": \"A4\",\n",
    "    \"margin-top\": \"10mm\",\n",
    "    \"margin-bottom\": \"10mm\",\n",
    "    \"margin-left\": \"10mm\",\n",
    "    \"margin-right\": \"10mm\",\n",
    "    \"encoding\": \"UTF-8\",\n",
    "    \"zoom\": \"1.3\",  # Adjust zoom for better fitting\n",
    "    \"print-media-type\": \"\",  # Ensure CSS for printing is used\n",
    "    \"enable-local-file-access\": \"\",  # Needed if CSS files are local\n",
    "}\n",
    "\n",
    "# Convert HTML page source to formatted PDF\n",
    "pdfkit.from_string(str(driver.page_source), \"output2.pdf\", options=options)"
   ]
  },
  {
   "cell_type": "code",
   "execution_count": 5,
   "id": "8bb62645-0318-47d0-b3a5-b36184d2e02d",
   "metadata": {},
   "outputs": [],
   "source": [
    "# Print the webpage as a PDF (preserving formatting)\n",
    "pdf_options = {\n",
    "    \"landscape\": False,  # Change to True for wide pages\n",
    "    \"displayHeaderFooter\": False,\n",
    "    \"printBackground\": True,\n",
    "    \"paperWidth\": 8.27,  # A4 width in inches\n",
    "    \"paperHeight\": 11.69,  # A4 height in inches\n",
    "    \"marginTop\": 0.4,\n",
    "    \"marginBottom\": 0.4,\n",
    "    \"marginLeft\": 0.4,\n",
    "    \"marginRight\": 0.4,\n",
    "}\n",
    "\n",
    "# Call Chrome DevTools Protocol to save the page as a PDF\n",
    "pdf = driver.execute_cdp_cmd(\"Page.printToPDF\", pdf_options)\n",
    "\n",
    "# Save to file\n",
    "with open(\"output3.pdf\", \"wb\") as f:\n",
    "    f.write(bytes(pdf[\"data\"], encoding=\"utf-8\"))"
   ]
  },
  {
   "cell_type": "code",
   "execution_count": 6,
   "id": "889ba4b7-bc49-4d18-bb53-61fa2b475b51",
   "metadata": {},
   "outputs": [
    {
     "name": "stdout",
     "output_type": "stream",
     "text": [
      "Defaulting to user installation because normal site-packages is not writeable\n",
      "Collecting weasyprint\n",
      "  Downloading weasyprint-64.1-py3-none-any.whl.metadata (3.7 kB)\n",
      "Collecting pydyf>=0.11.0 (from weasyprint)\n",
      "  Downloading pydyf-0.11.0-py3-none-any.whl.metadata (2.5 kB)\n",
      "Requirement already satisfied: cffi>=0.6 in /home/vanilla_skies/.local/lib/python3.10/site-packages (from weasyprint) (1.17.1)\n",
      "Collecting tinyhtml5>=2.0.0b1 (from weasyprint)\n",
      "  Downloading tinyhtml5-2.0.0-py3-none-any.whl.metadata (2.9 kB)\n",
      "Requirement already satisfied: tinycss2>=1.4.0 in /home/vanilla_skies/.local/lib/python3.10/site-packages (from weasyprint) (1.4.0)\n",
      "Collecting cssselect2>=0.1 (from weasyprint)\n",
      "  Downloading cssselect2-0.7.0-py3-none-any.whl.metadata (2.9 kB)\n",
      "Collecting Pyphen>=0.9.1 (from weasyprint)\n",
      "  Downloading pyphen-0.17.2-py3-none-any.whl.metadata (3.2 kB)\n",
      "Requirement already satisfied: Pillow>=9.1.0 in /home/vanilla_skies/.local/lib/python3.10/site-packages (from weasyprint) (11.0.0)\n",
      "Requirement already satisfied: fonttools>=4.0.0 in /home/vanilla_skies/.local/lib/python3.10/site-packages (from fonttools[woff]>=4.0.0->weasyprint) (4.53.1)\n",
      "Requirement already satisfied: pycparser in /home/vanilla_skies/.local/lib/python3.10/site-packages (from cffi>=0.6->weasyprint) (2.22)\n",
      "Requirement already satisfied: webencodings in /usr/lib/python3/dist-packages (from cssselect2>=0.1->weasyprint) (0.5.1)\n",
      "Collecting zopfli>=0.1.4 (from fonttools[woff]>=4.0.0->weasyprint)\n",
      "  Downloading zopfli-0.2.3.post1-cp310-cp310-manylinux_2_12_x86_64.manylinux2010_x86_64.whl.metadata (2.9 kB)\n",
      "Collecting brotli>=1.0.1 (from fonttools[woff]>=4.0.0->weasyprint)\n",
      "  Downloading Brotli-1.1.0-cp310-cp310-manylinux_2_5_x86_64.manylinux1_x86_64.manylinux_2_12_x86_64.manylinux2010_x86_64.whl.metadata (5.5 kB)\n",
      "Downloading weasyprint-64.1-py3-none-any.whl (302 kB)\n",
      "Downloading cssselect2-0.7.0-py3-none-any.whl (15 kB)\n",
      "Downloading pydyf-0.11.0-py3-none-any.whl (8.1 kB)\n",
      "Downloading pyphen-0.17.2-py3-none-any.whl (2.1 MB)\n",
      "\u001b[2K   \u001b[90m━━━━━━━━━━━━━━━━━━━━━━━━━━━━━━━━━━━━━━━━\u001b[0m \u001b[32m2.1/2.1 MB\u001b[0m \u001b[31m10.3 MB/s\u001b[0m eta \u001b[36m0:00:00\u001b[0m\n",
      "\u001b[?25hDownloading tinyhtml5-2.0.0-py3-none-any.whl (39 kB)\n",
      "Downloading Brotli-1.1.0-cp310-cp310-manylinux_2_5_x86_64.manylinux1_x86_64.manylinux_2_12_x86_64.manylinux2010_x86_64.whl (3.0 MB)\n",
      "\u001b[2K   \u001b[90m━━━━━━━━━━━━━━━━━━━━━━━━━━━━━━━━━━━━━━━━\u001b[0m \u001b[32m3.0/3.0 MB\u001b[0m \u001b[31m11.9 MB/s\u001b[0m eta \u001b[36m0:00:00\u001b[0ma \u001b[36m0:00:01\u001b[0m\n",
      "Downloading zopfli-0.2.3.post1-cp310-cp310-manylinux_2_12_x86_64.manylinux2010_x86_64.whl (849 kB)\n",
      "\u001b[2K   \u001b[90m━━━━━━━━━━━━━━━━━━━━━━━━━━━━━━━━━━━━━━━━\u001b[0m \u001b[32m849.1/849.1 kB\u001b[0m \u001b[31m9.5 MB/s\u001b[0m eta \u001b[36m0:00:00\u001b[0m\n",
      "Installing collected packages: brotli, zopfli, tinyhtml5, Pyphen, pydyf, cssselect2, weasyprint\n",
      "Successfully installed Pyphen-0.17.2 brotli-1.1.0 cssselect2-0.7.0 pydyf-0.11.0 tinyhtml5-2.0.0 weasyprint-64.1 zopfli-0.2.3.post1\n",
      "\n",
      "\u001b[1m[\u001b[0m\u001b[34;49mnotice\u001b[0m\u001b[1;39;49m]\u001b[0m\u001b[39;49m A new release of pip is available: \u001b[0m\u001b[31;49m25.0\u001b[0m\u001b[39;49m -> \u001b[0m\u001b[32;49m25.0.1\u001b[0m\n",
      "\u001b[1m[\u001b[0m\u001b[34;49mnotice\u001b[0m\u001b[1;39;49m]\u001b[0m\u001b[39;49m To update, run: \u001b[0m\u001b[32;49m/usr/bin/python3 -m pip install --upgrade pip\u001b[0m\n"
     ]
    }
   ],
   "source": [
    "!pip3 install weasyprint"
   ]
  },
  {
   "cell_type": "code",
   "execution_count": null,
   "id": "0129ff87-07c0-4c7a-b253-69756ace08da",
   "metadata": {},
   "outputs": [],
   "source": [
    "driver.quit()"
   ]
  },
  {
   "cell_type": "code",
   "execution_count": 7,
   "id": "9cd3544e-a65a-4491-8851-31948edbc162",
   "metadata": {},
   "outputs": [],
   "source": [
    "from weasyprint import HTML"
   ]
  },
  {
   "cell_type": "code",
   "execution_count": 9,
   "id": "a24e2be5-3a7b-4ed1-8d7e-78d4fbc88a58",
   "metadata": {},
   "outputs": [
    {
     "ename": "AssertionError",
     "evalue": "",
     "output_type": "error",
     "traceback": [
      "\u001b[0;31m---------------------------------------------------------------------------\u001b[0m",
      "\u001b[0;31mAssertionError\u001b[0m                            Traceback (most recent call last)",
      "Cell \u001b[0;32mIn[9], line 5\u001b[0m\n\u001b[1;32m      3\u001b[0m \u001b[38;5;66;03m# Convert to PDF using WeasyPrint\u001b[39;00m\n\u001b[1;32m      4\u001b[0m html \u001b[38;5;241m=\u001b[39m HTML(string\u001b[38;5;241m=\u001b[39mhtml_content)\n\u001b[0;32m----> 5\u001b[0m \u001b[43mhtml\u001b[49m\u001b[38;5;241;43m.\u001b[39;49m\u001b[43mwrite_pdf\u001b[49m\u001b[43m(\u001b[49m\u001b[38;5;124;43m\"\u001b[39;49m\u001b[38;5;124;43moutput4.pdf\u001b[39;49m\u001b[38;5;124;43m\"\u001b[39;49m\u001b[43m)\u001b[49m\n",
      "File \u001b[0;32m~/.local/lib/python3.10/site-packages/weasyprint/__init__.py:265\u001b[0m, in \u001b[0;36mHTML.write_pdf\u001b[0;34m(self, target, zoom, finisher, font_config, counter_style, **options)\u001b[0m\n\u001b[1;32m    262\u001b[0m new_options\u001b[38;5;241m.\u001b[39mupdate(options)\n\u001b[1;32m    263\u001b[0m options \u001b[38;5;241m=\u001b[39m new_options\n\u001b[1;32m    264\u001b[0m \u001b[38;5;28;01mreturn\u001b[39;00m (\n\u001b[0;32m--> 265\u001b[0m     \u001b[38;5;28;43mself\u001b[39;49m\u001b[38;5;241;43m.\u001b[39;49m\u001b[43mrender\u001b[49m\u001b[43m(\u001b[49m\u001b[43mfont_config\u001b[49m\u001b[43m,\u001b[49m\u001b[43m \u001b[49m\u001b[43mcounter_style\u001b[49m\u001b[43m,\u001b[49m\u001b[43m \u001b[49m\u001b[38;5;241;43m*\u001b[39;49m\u001b[38;5;241;43m*\u001b[39;49m\u001b[43moptions\u001b[49m\u001b[43m)\u001b[49m\n\u001b[1;32m    266\u001b[0m \u001b[43m    \u001b[49m\u001b[38;5;241;43m.\u001b[39;49m\u001b[43mwrite_pdf\u001b[49m\u001b[43m(\u001b[49m\u001b[43mtarget\u001b[49m\u001b[43m,\u001b[49m\u001b[43m \u001b[49m\u001b[43mzoom\u001b[49m\u001b[43m,\u001b[49m\u001b[43m \u001b[49m\u001b[43mfinisher\u001b[49m\u001b[43m,\u001b[49m\u001b[43m \u001b[49m\u001b[38;5;241;43m*\u001b[39;49m\u001b[38;5;241;43m*\u001b[39;49m\u001b[43moptions\u001b[49m\u001b[43m)\u001b[49m)\n",
      "File \u001b[0;32m~/.local/lib/python3.10/site-packages/weasyprint/document.py:391\u001b[0m, in \u001b[0;36mDocument.write_pdf\u001b[0;34m(self, target, zoom, finisher, **options)\u001b[0m\n\u001b[1;32m    388\u001b[0m     \u001b[38;5;28;01mif\u001b[39;00m \u001b[38;5;124m'\u001b[39m\u001b[38;5;124midentifier\u001b[39m\u001b[38;5;124m'\u001b[39m \u001b[38;5;129;01min\u001b[39;00m properties \u001b[38;5;129;01mand\u001b[39;00m \u001b[38;5;129;01mnot\u001b[39;00m options[\u001b[38;5;124m'\u001b[39m\u001b[38;5;124mpdf_identifier\u001b[39m\u001b[38;5;124m'\u001b[39m]:\n\u001b[1;32m    389\u001b[0m         options[\u001b[38;5;124m'\u001b[39m\u001b[38;5;124mpdf_identifier\u001b[39m\u001b[38;5;124m'\u001b[39m] \u001b[38;5;241m=\u001b[39m properties[\u001b[38;5;124m'\u001b[39m\u001b[38;5;124midentifier\u001b[39m\u001b[38;5;124m'\u001b[39m]\n\u001b[0;32m--> 391\u001b[0m pdf \u001b[38;5;241m=\u001b[39m \u001b[43mgenerate_pdf\u001b[49m\u001b[43m(\u001b[49m\u001b[38;5;28;43mself\u001b[39;49m\u001b[43m,\u001b[49m\u001b[43m \u001b[49m\u001b[43mtarget\u001b[49m\u001b[43m,\u001b[49m\u001b[43m \u001b[49m\u001b[43mzoom\u001b[49m\u001b[43m,\u001b[49m\u001b[43m \u001b[49m\u001b[38;5;241;43m*\u001b[39;49m\u001b[38;5;241;43m*\u001b[39;49m\u001b[43moptions\u001b[49m\u001b[43m)\u001b[49m\n\u001b[1;32m    393\u001b[0m \u001b[38;5;28;01mif\u001b[39;00m finisher:\n\u001b[1;32m    394\u001b[0m     finisher(\u001b[38;5;28mself\u001b[39m, pdf)\n",
      "File \u001b[0;32m~/.local/lib/python3.10/site-packages/weasyprint/pdf/__init__.py:203\u001b[0m, in \u001b[0;36mgenerate_pdf\u001b[0;34m(document, target, zoom, **options)\u001b[0m\n\u001b[1;32m    197\u001b[0m add_annotations(\n\u001b[1;32m    198\u001b[0m     links_and_anchors[\u001b[38;5;241m0\u001b[39m], matrix, document, pdf, pdf_page, annot_files,\n\u001b[1;32m    199\u001b[0m     compress)\n\u001b[1;32m    200\u001b[0m add_forms(\n\u001b[1;32m    201\u001b[0m     page\u001b[38;5;241m.\u001b[39mforms, matrix, pdf, pdf_page, resources, stream,\n\u001b[1;32m    202\u001b[0m     document\u001b[38;5;241m.\u001b[39mfont_config\u001b[38;5;241m.\u001b[39mfont_map)\n\u001b[0;32m--> 203\u001b[0m \u001b[43mpage\u001b[49m\u001b[38;5;241;43m.\u001b[39;49m\u001b[43mpaint\u001b[49m\u001b[43m(\u001b[49m\u001b[43mstream\u001b[49m\u001b[43m,\u001b[49m\u001b[43m \u001b[49m\u001b[43mscale\u001b[49m\u001b[43m)\u001b[49m\n\u001b[1;32m    205\u001b[0m \u001b[38;5;66;03m# Bleed\u001b[39;00m\n\u001b[1;32m    206\u001b[0m bleed \u001b[38;5;241m=\u001b[39m {key: value \u001b[38;5;241m*\u001b[39m \u001b[38;5;241m0.75\u001b[39m \u001b[38;5;28;01mfor\u001b[39;00m key, value \u001b[38;5;129;01min\u001b[39;00m page\u001b[38;5;241m.\u001b[39mbleed\u001b[38;5;241m.\u001b[39mitems()}\n",
      "File \u001b[0;32m~/.local/lib/python3.10/site-packages/weasyprint/document.py:87\u001b[0m, in \u001b[0;36mPage.paint\u001b[0;34m(self, stream, scale)\u001b[0m\n\u001b[1;32m     85\u001b[0m \u001b[38;5;28;01mwith\u001b[39;00m stacked(stream):\n\u001b[1;32m     86\u001b[0m     stream\u001b[38;5;241m.\u001b[39mtransform(a\u001b[38;5;241m=\u001b[39mscale, d\u001b[38;5;241m=\u001b[39mscale)\n\u001b[0;32m---> 87\u001b[0m     \u001b[43mdraw_page\u001b[49m\u001b[43m(\u001b[49m\u001b[38;5;28;43mself\u001b[39;49m\u001b[38;5;241;43m.\u001b[39;49m\u001b[43m_page_box\u001b[49m\u001b[43m,\u001b[49m\u001b[43m \u001b[49m\u001b[43mstream\u001b[49m\u001b[43m)\u001b[49m\n",
      "File \u001b[0;32m~/.local/lib/python3.10/site-packages/weasyprint/draw/__init__.py:29\u001b[0m, in \u001b[0;36mdraw_page\u001b[0;34m(page, stream)\u001b[0m\n\u001b[1;32m     27\u001b[0m draw_background(stream, page\u001b[38;5;241m.\u001b[39mcanvas_background, clip_box\u001b[38;5;241m=\u001b[39m\u001b[38;5;28;01mFalse\u001b[39;00m)\n\u001b[1;32m     28\u001b[0m draw_border(stream, page)\n\u001b[0;32m---> 29\u001b[0m \u001b[43mdraw_stacking_context\u001b[49m\u001b[43m(\u001b[49m\u001b[43mstream\u001b[49m\u001b[43m,\u001b[49m\u001b[43m \u001b[49m\u001b[43mstacking_context\u001b[49m\u001b[43m)\u001b[49m\n",
      "File \u001b[0;32m~/.local/lib/python3.10/site-packages/weasyprint/draw/__init__.py:135\u001b[0m, in \u001b[0;36mdraw_stacking_context\u001b[0;34m(stream, stacking_context)\u001b[0m\n\u001b[1;32m    133\u001b[0m \u001b[38;5;66;03m# Point 8.\u001b[39;00m\n\u001b[1;32m    134\u001b[0m \u001b[38;5;28;01mfor\u001b[39;00m child_context \u001b[38;5;129;01min\u001b[39;00m stacking_context\u001b[38;5;241m.\u001b[39mzero_z_contexts:\n\u001b[0;32m--> 135\u001b[0m     \u001b[43mdraw_stacking_context\u001b[49m\u001b[43m(\u001b[49m\u001b[43mstream\u001b[49m\u001b[43m,\u001b[49m\u001b[43m \u001b[49m\u001b[43mchild_context\u001b[49m\u001b[43m)\u001b[49m\n\u001b[1;32m    137\u001b[0m \u001b[38;5;66;03m# Point 9.\u001b[39;00m\n\u001b[1;32m    138\u001b[0m \u001b[38;5;28;01mfor\u001b[39;00m child_context \u001b[38;5;129;01min\u001b[39;00m stacking_context\u001b[38;5;241m.\u001b[39mpositive_z_contexts:\n",
      "File \u001b[0;32m~/.local/lib/python3.10/site-packages/weasyprint/draw/__init__.py:129\u001b[0m, in \u001b[0;36mdraw_stacking_context\u001b[0;34m(stream, stacking_context)\u001b[0m\n\u001b[1;32m    127\u001b[0m \u001b[38;5;28;01mif\u001b[39;00m \u001b[38;5;28misinstance\u001b[39m(block\u001b[38;5;241m.\u001b[39mchildren[\u001b[38;5;241m-\u001b[39m\u001b[38;5;241m1\u001b[39m], boxes\u001b[38;5;241m.\u001b[39mLineBox):\n\u001b[1;32m    128\u001b[0m     \u001b[38;5;28;01mfor\u001b[39;00m child \u001b[38;5;129;01min\u001b[39;00m block\u001b[38;5;241m.\u001b[39mchildren:\n\u001b[0;32m--> 129\u001b[0m         \u001b[43mdraw_inline_level\u001b[49m\u001b[43m(\u001b[49m\u001b[43mstream\u001b[49m\u001b[43m,\u001b[49m\u001b[43m \u001b[49m\u001b[43mstacking_context\u001b[49m\u001b[38;5;241;43m.\u001b[39;49m\u001b[43mpage\u001b[49m\u001b[43m,\u001b[49m\u001b[43m \u001b[49m\u001b[43mchild\u001b[49m\u001b[43m)\u001b[49m\n\u001b[1;32m    130\u001b[0m \u001b[38;5;28;01mif\u001b[39;00m block \u001b[38;5;241m!=\u001b[39m box:\n\u001b[1;32m    131\u001b[0m     stream\u001b[38;5;241m.\u001b[39mend_marked_content()\n",
      "File \u001b[0;32m~/.local/lib/python3.10/site-packages/weasyprint/draw/__init__.py:536\u001b[0m, in \u001b[0;36mdraw_inline_level\u001b[0;34m(stream, page, box, offset_x, text_overflow, block_ellipsis)\u001b[0m\n\u001b[1;32m    534\u001b[0m         draw_text(stream, child, child_offset_x, text_overflow, ellipsis)\n\u001b[1;32m    535\u001b[0m     \u001b[38;5;28;01melse\u001b[39;00m:\n\u001b[0;32m--> 536\u001b[0m         \u001b[43mdraw_inline_level\u001b[49m\u001b[43m(\u001b[49m\n\u001b[1;32m    537\u001b[0m \u001b[43m            \u001b[49m\u001b[43mstream\u001b[49m\u001b[43m,\u001b[49m\u001b[43m \u001b[49m\u001b[43mpage\u001b[49m\u001b[43m,\u001b[49m\u001b[43m \u001b[49m\u001b[43mchild\u001b[49m\u001b[43m,\u001b[49m\u001b[43m \u001b[49m\u001b[43mchild_offset_x\u001b[49m\u001b[43m,\u001b[49m\u001b[43m \u001b[49m\u001b[43mtext_overflow\u001b[49m\u001b[43m,\u001b[49m\u001b[43m \u001b[49m\u001b[43mellipsis\u001b[49m\u001b[43m)\u001b[49m\n\u001b[1;32m    538\u001b[0m \u001b[38;5;28;01mif\u001b[39;00m link_annotation:\n\u001b[1;32m    539\u001b[0m     stream\u001b[38;5;241m.\u001b[39mend_marked_content()\n",
      "File \u001b[0;32m~/.local/lib/python3.10/site-packages/weasyprint/draw/__init__.py:534\u001b[0m, in \u001b[0;36mdraw_inline_level\u001b[0;34m(stream, page, box, offset_x, text_overflow, block_ellipsis)\u001b[0m\n\u001b[1;32m    532\u001b[0m     child_offset_x \u001b[38;5;241m=\u001b[39m offset_x \u001b[38;5;241m+\u001b[39m child\u001b[38;5;241m.\u001b[39mposition_x \u001b[38;5;241m-\u001b[39m box\u001b[38;5;241m.\u001b[39mposition_x\n\u001b[1;32m    533\u001b[0m \u001b[38;5;28;01mif\u001b[39;00m \u001b[38;5;28misinstance\u001b[39m(child, boxes\u001b[38;5;241m.\u001b[39mTextBox):\n\u001b[0;32m--> 534\u001b[0m     \u001b[43mdraw_text\u001b[49m\u001b[43m(\u001b[49m\u001b[43mstream\u001b[49m\u001b[43m,\u001b[49m\u001b[43m \u001b[49m\u001b[43mchild\u001b[49m\u001b[43m,\u001b[49m\u001b[43m \u001b[49m\u001b[43mchild_offset_x\u001b[49m\u001b[43m,\u001b[49m\u001b[43m \u001b[49m\u001b[43mtext_overflow\u001b[49m\u001b[43m,\u001b[49m\u001b[43m \u001b[49m\u001b[43mellipsis\u001b[49m\u001b[43m)\u001b[49m\n\u001b[1;32m    535\u001b[0m \u001b[38;5;28;01melse\u001b[39;00m:\n\u001b[1;32m    536\u001b[0m     draw_inline_level(\n\u001b[1;32m    537\u001b[0m         stream, page, child, child_offset_x, text_overflow, ellipsis)\n",
      "File \u001b[0;32m~/.local/lib/python3.10/site-packages/weasyprint/draw/text.py:53\u001b[0m, in \u001b[0;36mdraw_text\u001b[0;34m(stream, textbox, offset_x, text_overflow, block_ellipsis)\u001b[0m\n\u001b[1;32m     51\u001b[0m         underline_offset \u001b[38;5;241m=\u001b[39m textbox\u001b[38;5;241m.\u001b[39mstyle[\u001b[38;5;124m'\u001b[39m\u001b[38;5;124mtext_underline_offset\u001b[39m\u001b[38;5;124m'\u001b[39m]\u001b[38;5;241m.\u001b[39mvalue\n\u001b[1;32m     52\u001b[0m     offset_y \u001b[38;5;241m=\u001b[39m textbox\u001b[38;5;241m.\u001b[39mbaseline \u001b[38;5;241m+\u001b[39m underline_offset \u001b[38;5;241m+\u001b[39m thickness \u001b[38;5;241m/\u001b[39m \u001b[38;5;241m2\u001b[39m\n\u001b[0;32m---> 53\u001b[0m     \u001b[43mdraw_text_decoration\u001b[49m\u001b[43m(\u001b[49m\n\u001b[1;32m     54\u001b[0m \u001b[43m        \u001b[49m\u001b[43mstream\u001b[49m\u001b[43m,\u001b[49m\u001b[43m \u001b[49m\u001b[43mtextbox\u001b[49m\u001b[43m,\u001b[49m\u001b[43m \u001b[49m\u001b[43moffset_x\u001b[49m\u001b[43m,\u001b[49m\u001b[43m \u001b[49m\u001b[43moffset_y\u001b[49m\u001b[43m,\u001b[49m\u001b[43m \u001b[49m\u001b[43mthickness\u001b[49m\u001b[43m,\u001b[49m\n\u001b[1;32m     55\u001b[0m \u001b[43m        \u001b[49m\u001b[43mtext_decoration_color\u001b[49m\u001b[43m)\u001b[49m\n\u001b[1;32m     57\u001b[0m \u001b[38;5;66;03m# Draw text.\u001b[39;00m\n\u001b[1;32m     58\u001b[0m x, y \u001b[38;5;241m=\u001b[39m textbox\u001b[38;5;241m.\u001b[39mposition_x, textbox\u001b[38;5;241m.\u001b[39mposition_y \u001b[38;5;241m+\u001b[39m textbox\u001b[38;5;241m.\u001b[39mbaseline\n",
      "File \u001b[0;32m~/.local/lib/python3.10/site-packages/weasyprint/draw/text.py:268\u001b[0m, in \u001b[0;36mdraw_text_decoration\u001b[0;34m(stream, textbox, offset_x, offset_y, thickness, color)\u001b[0m\n\u001b[1;32m    266\u001b[0m \u001b[38;5;28;01mdef\u001b[39;00m \u001b[38;5;21mdraw_text_decoration\u001b[39m(stream, textbox, offset_x, offset_y, thickness, color):\n\u001b[1;32m    267\u001b[0m \u001b[38;5;250m    \u001b[39m\u001b[38;5;124;03m\"\"\"Draw text-decoration of ``textbox`` to a ``pdf.stream.Stream``.\"\"\"\u001b[39;00m\n\u001b[0;32m--> 268\u001b[0m     \u001b[43mdraw_line\u001b[49m\u001b[43m(\u001b[49m\n\u001b[1;32m    269\u001b[0m \u001b[43m        \u001b[49m\u001b[43mstream\u001b[49m\u001b[43m,\u001b[49m\u001b[43m \u001b[49m\u001b[43mtextbox\u001b[49m\u001b[38;5;241;43m.\u001b[39;49m\u001b[43mposition_x\u001b[49m\u001b[43m,\u001b[49m\u001b[43m \u001b[49m\u001b[43mtextbox\u001b[49m\u001b[38;5;241;43m.\u001b[39;49m\u001b[43mposition_y\u001b[49m\u001b[43m \u001b[49m\u001b[38;5;241;43m+\u001b[39;49m\u001b[43m \u001b[49m\u001b[43moffset_y\u001b[49m\u001b[43m,\u001b[49m\n\u001b[1;32m    270\u001b[0m \u001b[43m        \u001b[49m\u001b[43mtextbox\u001b[49m\u001b[38;5;241;43m.\u001b[39;49m\u001b[43mposition_x\u001b[49m\u001b[43m \u001b[49m\u001b[38;5;241;43m+\u001b[39;49m\u001b[43m \u001b[49m\u001b[43mtextbox\u001b[49m\u001b[38;5;241;43m.\u001b[39;49m\u001b[43mwidth\u001b[49m\u001b[43m,\u001b[49m\u001b[43m \u001b[49m\u001b[43mtextbox\u001b[49m\u001b[38;5;241;43m.\u001b[39;49m\u001b[43mposition_y\u001b[49m\u001b[43m \u001b[49m\u001b[38;5;241;43m+\u001b[39;49m\u001b[43m \u001b[49m\u001b[43moffset_y\u001b[49m\u001b[43m,\u001b[49m\n\u001b[1;32m    271\u001b[0m \u001b[43m        \u001b[49m\u001b[43mthickness\u001b[49m\u001b[43m,\u001b[49m\u001b[43m \u001b[49m\u001b[43mtextbox\u001b[49m\u001b[38;5;241;43m.\u001b[39;49m\u001b[43mstyle\u001b[49m\u001b[43m[\u001b[49m\u001b[38;5;124;43m'\u001b[39;49m\u001b[38;5;124;43mtext_decoration_style\u001b[39;49m\u001b[38;5;124;43m'\u001b[39;49m\u001b[43m]\u001b[49m\u001b[43m,\u001b[49m\u001b[43m \u001b[49m\u001b[43mcolor\u001b[49m\u001b[43m,\u001b[49m\u001b[43m \u001b[49m\u001b[43moffset_x\u001b[49m\u001b[43m)\u001b[49m\n",
      "File \u001b[0;32m~/.local/lib/python3.10/site-packages/weasyprint/draw/border.py:552\u001b[0m, in \u001b[0;36mdraw_line\u001b[0;34m(stream, x1, y1, x2, y2, thickness, style, color, offset)\u001b[0m\n\u001b[1;32m    551\u001b[0m \u001b[38;5;28;01mdef\u001b[39;00m \u001b[38;5;21mdraw_line\u001b[39m(stream, x1, y1, x2, y2, thickness, style, color, offset\u001b[38;5;241m=\u001b[39m\u001b[38;5;241m0\u001b[39m):\n\u001b[0;32m--> 552\u001b[0m     \u001b[38;5;28;01massert\u001b[39;00m x1 \u001b[38;5;241m==\u001b[39m x2 \u001b[38;5;129;01mor\u001b[39;00m y1 \u001b[38;5;241m==\u001b[39m y2  \u001b[38;5;66;03m# Only works for vertical or horizontal lines\u001b[39;00m\n\u001b[1;32m    554\u001b[0m     \u001b[38;5;28;01mwith\u001b[39;00m stacked(stream):\n\u001b[1;32m    555\u001b[0m         \u001b[38;5;28;01mif\u001b[39;00m style \u001b[38;5;129;01mnot\u001b[39;00m \u001b[38;5;129;01min\u001b[39;00m (\u001b[38;5;124m'\u001b[39m\u001b[38;5;124mridge\u001b[39m\u001b[38;5;124m'\u001b[39m, \u001b[38;5;124m'\u001b[39m\u001b[38;5;124mgroove\u001b[39m\u001b[38;5;124m'\u001b[39m):\n",
      "\u001b[0;31mAssertionError\u001b[0m: "
     ]
    }
   ],
   "source": [
    "html_content = driver.page_source\n",
    "\n",
    "# Convert to PDF using WeasyPrint\n",
    "html = HTML(string=html_content)\n",
    "html.write_pdf(\"output4.pdf\")"
   ]
  },
  {
   "cell_type": "code",
   "execution_count": 10,
   "id": "c1b10c0c-f05d-418e-8a5c-2d44d7a69d61",
   "metadata": {},
   "outputs": [
    {
     "ename": "NameError",
     "evalue": "name 'Keys' is not defined",
     "output_type": "error",
     "traceback": [
      "\u001b[0;31m---------------------------------------------------------------------------\u001b[0m",
      "\u001b[0;31mNameError\u001b[0m                                 Traceback (most recent call last)",
      "Cell \u001b[0;32mIn[10], line 1\u001b[0m\n\u001b[0;32m----> 1\u001b[0m webdriver\u001b[38;5;241m.\u001b[39mActionChains(driver)\u001b[38;5;241m.\u001b[39mkey_down(\u001b[43mKeys\u001b[49m\u001b[38;5;241m.\u001b[39mCONTROL)\u001b[38;5;241m.\u001b[39msend_keys(\u001b[38;5;124m'\u001b[39m\u001b[38;5;124mP\u001b[39m\u001b[38;5;124m'\u001b[39m)\u001b[38;5;241m.\u001b[39mkey_up(Keys\u001b[38;5;241m.\u001b[39mCONTROL)\u001b[38;5;241m.\u001b[39mperform()\n",
      "\u001b[0;31mNameError\u001b[0m: name 'Keys' is not defined"
     ]
    }
   ],
   "source": [
    "webdriver.ActionChains(driver).key_down(Keys.CONTROL).send_keys('P').key_up(Keys.CONTROL).perform()"
   ]
  },
  {
   "cell_type": "code",
   "execution_count": null,
   "id": "0bd5e4bb-1963-400b-bbd8-c879f17e27d4",
   "metadata": {},
   "outputs": [],
   "source": []
  }
 ],
 "metadata": {
  "kernelspec": {
   "display_name": "Python 3 (ipykernel)",
   "language": "python",
   "name": "python3"
  },
  "language_info": {
   "codemirror_mode": {
    "name": "ipython",
    "version": 3
   },
   "file_extension": ".py",
   "mimetype": "text/x-python",
   "name": "python",
   "nbconvert_exporter": "python",
   "pygments_lexer": "ipython3",
   "version": "3.10.14"
  }
 },
 "nbformat": 4,
 "nbformat_minor": 5
}
